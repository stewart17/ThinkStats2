{
 "cells": [
  {
   "cell_type": "markdown",
   "id": "87e3b3f1",
   "metadata": {},
   "source": [
    "# Exercise 2-1\n",
    "Based on the results in this chapter, suppose you were asked to summarize what you learned about whether first babies arrive late.\n",
    "#### Answer\n",
    "Thus far, there is not enough evidence in support of the hypothesis that first babies arrive late. The difference in mean is only 13 hours, Cohen's d is .029 standard deviations and the histogram revealed only a small difference in pregancny lengths.\n",
    "\n",
    "If I wanted to get a story on the evening news I would show them the outlier statistics, which by definition are extreme values from the mode. They would not be an accurate measure of whether first babies arrive late but it would catch headlines (\"This woman's first child was delivered a whopping 8 weeks late!\")\n",
    "\n",
    "If I wanted to reassure an anxious patient, I would show them the difference in means, which would show a difference of 13 hours, hardly something to lose sleep over."
   ]
  },
  {
   "cell_type": "markdown",
   "id": "85d1cce9",
   "metadata": {},
   "source": [
    "#### Write a paragraph that uses the results in this chapter to answer the question clearly, precisely, and honestly.\n",
    "It is a question that has been thrown around for decades: \"Do first babies arrive late?\". Thanks to some statistical analysis, we may finally begin to arrive at some answers. There are various different ways to analyze whether first babies arrive late. Some of these analyses include: measuring the difference in the mean pregnancy length between first babies and other babies, the mode (most frequent pregnancy length) between first babies and other babies, and comparing the size of the effect (in this case differences in length of pregnancy). The results so far? There is not a statistically significant difference in pregnancy length between first babies. Where there is a difference, such as in the difference in the mean, it is not a very large one (< 1 day). In fact, the effect size between first and other pregnancies is extremly small compared to commonly known differences(the height difference between men and women for example). While there will of course always be outliers that tend to make the difference look extreme, anxious first mothers can be assured that this juncture, their pregnancy will most likely not be any longer than other pregnancies. "
   ]
  },
  {
   "cell_type": "markdown",
   "id": "c2f3bf60",
   "metadata": {},
   "source": []
  }
 ],
 "metadata": {
  "kernelspec": {
   "display_name": "Python 3 (ipykernel)",
   "language": "python",
   "name": "python3"
  },
  "language_info": {
   "codemirror_mode": {
    "name": "ipython",
    "version": 3
   },
   "file_extension": ".py",
   "mimetype": "text/x-python",
   "name": "python",
   "nbconvert_exporter": "python",
   "pygments_lexer": "ipython3",
   "version": "3.9.7"
  }
 },
 "nbformat": 4,
 "nbformat_minor": 5
}
