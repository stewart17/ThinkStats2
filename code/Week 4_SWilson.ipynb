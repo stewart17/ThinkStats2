{
 "cells": [
  {
   "cell_type": "markdown",
   "id": "a0561ab4",
   "metadata": {},
   "source": [
    "# Assignment 4.2 - ( 3.1, 3.2, 4.1, 4.2)\n",
    "\n",
    "http://thinkstats2.com\n",
    "\n",
    "Copyright 2016 Allen B. Downey\n",
    "\n",
    "MIT License: https://opensource.org/licenses/MIT"
   ]
  },
  {
   "cell_type": "markdown",
   "id": "3bda81f9",
   "metadata": {},
   "source": [
    "## Exercise 3-1"
   ]
  },
  {
   "cell_type": "code",
   "execution_count": 1,
   "id": "fa4c84f2",
   "metadata": {},
   "outputs": [],
   "source": [
    "import nsfg\n",
    "import first\n",
    "import thinkstats2\n",
    "import thinkplot\n",
    "import numpy as np\n",
    "import random"
   ]
  },
  {
   "cell_type": "code",
   "execution_count": 2,
   "id": "a62b2dfd",
   "metadata": {},
   "outputs": [],
   "source": [
    "def bias_pmf(pmf, label):\n",
    "    \"\"\"calculates bias_pmf given actual_pmf\"\"\"\n",
    "    new_pmf = pmf.Copy(label=label)\n",
    "    for x, p in pmf.Items():\n",
    "        new_pmf.Mult(x, x)\n",
    "    new_pmf.Normalize()\n",
    "    return new_pmf"
   ]
  },
  {
   "cell_type": "code",
   "execution_count": 12,
   "id": "8c1cedca",
   "metadata": {},
   "outputs": [],
   "source": [
    "def main():\n",
    "    resp = nsfg.ReadFemResp()\n",
    "    # calculates actual distribution of number of children under 18\n",
    "    actual_pmf = thinkstats2.Pmf(resp.numkdhh, label='actual')\n",
    "    # calculates biased distribution of number of children under 18\n",
    "    biased_pmf = bias_pmf(actual_pmf, 'observed')\n",
    "    # plots pmf's\n",
    "    thinkplot.PrePlot(2)\n",
    "    thinkplot.Pmfs([actual_pmf, biased_pmf])\n",
    "    thinkplot.Show(xlabel = '# of Children Under 18', ylabel = 'PMF')\n",
    "    # compares means between the two\n",
    "    print(\"Actual mean \", actual_pmf.Mean())\n",
    "    print(\"Observed mean \", biased_pmf.Mean())"
   ]
  },
  {
   "cell_type": "code",
   "execution_count": 13,
   "id": "e3bf8433",
   "metadata": {},
   "outputs": [
    {
     "data": {
      "image/png": "[encoded data removed]",
      "text/plain": [
       "<Figure size 432x288 with 1 Axes>"
      ]
     },
     "metadata": {
      "needs_background": "light"
     },
     "output_type": "display_data"
    },
    {
     "name": "stdout",
     "output_type": "stream",
     "text": [
      "Actual mean  1.024205155043831\n",
      "Observed mean  2.403679100664282\n"
     ]
    },
    {
     "data": {
      "text/plain": [
       "<Figure size 576x432 with 0 Axes>"
      ]
     },
     "metadata": {},
     "output_type": "display_data"
    }
   ],
   "source": [
    "if __name__ == '__main__':\n",
    "    main()"
   ]
  },
  {
   "cell_type": "markdown",
   "id": "42661b57",
   "metadata": {},
   "source": [
    "## Exercise 3-2"
   ]
  },
  {
   "cell_type": "code",
   "execution_count": 5,
   "id": "eeba3fa8",
   "metadata": {},
   "outputs": [],
   "source": [
    "def pmf_mean(pmf):\n",
    "    \"\"\"calculates mean of pmf\"\"\"\n",
    "    mean = 0.0\n",
    "    for x, p in pmf.Items():\n",
    "        mean += x * p\n",
    "    return mean"
   ]
  },
  {
   "cell_type": "code",
   "execution_count": 6,
   "id": "ce7e55d3",
   "metadata": {},
   "outputs": [],
   "source": [
    "def pmf_var(pmf):\n",
    "    \"\"\"calculates var of pmf\"\"\"\n",
    "    var = 0.0\n",
    "    mean = pmf_mean(pmf)\n",
    "    for x, p in pmf.Items():\n",
    "        var += p * ((x - mean) ** 2)\n",
    "    return var"
   ]
  },
  {
   "cell_type": "code",
   "execution_count": 16,
   "id": "149bbad6",
   "metadata": {},
   "outputs": [],
   "source": [
    "def main():\n",
    "    d = { 7: 8, 12: 8, 17: 14, 22: 4,\n",
    "         27: 6, 32: 12, 37: 8, 42: 3, 47: 2 }\n",
    "    # creates pmf\n",
    "    pmf = thinkstats2.Pmf(d, label='actual')\n",
    "    # computes mean, both new function and provided function and compares\n",
    "    print(f\"Provided mean function: {pmf.Mean()}\")\n",
    "    print(f\"New mean function: {pmf_mean(pmf)}\")\n",
    "    print(f\"Provided variance function: {pmf.Var()}\")\n",
    "    print(f\"New variance function: {pmf_var(pmf)}\")"
   ]
  },
  {
   "cell_type": "code",
   "execution_count": 17,
   "id": "25da646a",
   "metadata": {},
   "outputs": [
    {
     "name": "stdout",
     "output_type": "stream",
     "text": [
      "Provided mean function: 23.692307692307693\n",
      "New mean function: 23.692307692307693\n",
      "Provided variance function: 128.67455621301775\n",
      "New variance function: 128.67455621301775\n"
     ]
    }
   ],
   "source": [
    "if __name__ == '__main__':\n",
    "    main()"
   ]
  },
  {
   "cell_type": "markdown",
   "id": "3b5a9ead",
   "metadata": {},
   "source": [
    "## Exercise 4-1"
   ]
  },
  {
   "cell_type": "code",
   "execution_count": 9,
   "id": "f1a33a97",
   "metadata": {},
   "outputs": [
    {
     "name": "stdout",
     "output_type": "stream",
     "text": [
      "73.32374419119274\n",
      "71.12299465240642\n"
     ]
    }
   ],
   "source": [
    "live, firsts, others = first.MakeFrames()\n",
    "cdf_live = thinkstats2.Cdf(live.totalwgt_lb, label = 'totalwgt_lb')\n",
    "cdf_others = thinkstats2.Cdf(others.totalwgt_lb, label = 'totalwgt_lb')\n",
    "# calculates percentile weight of live births\n",
    "stewart_percentile = cdf_live.PercentileRank(8)\n",
    "#calculates percentile weight of other births\n",
    "stewart_percentile_others = cdf_others.PercentileRank(8)\n",
    "print(stewart_percentile)\n",
    "print(stewart_percentile_others)"
   ]
  },
  {
   "cell_type": "markdown",
   "id": "98c2cb89",
   "metadata": {},
   "source": [
    "## Exercise 4-2"
   ]
  },
  {
   "cell_type": "code",
   "execution_count": 23,
   "id": "2c249a28",
   "metadata": {
    "scrolled": true
   },
   "outputs": [
    {
     "data": {
      "image/png": "[encoded data removed]",
      "text/plain": [
       "<Figure size 432x288 with 1 Axes>"
      ]
     },
     "metadata": {
      "needs_background": "light"
     },
     "output_type": "display_data"
    },
    {
     "data": {
      "image/png": "[encoded data removed]",
      "text/plain": [
       "<Figure size 576x432 with 1 Axes>"
      ]
     },
     "metadata": {
      "needs_background": "light"
     },
     "output_type": "display_data"
    },
    {
     "data": {
      "text/plain": [
       "<Figure size 576x432 with 0 Axes>"
      ]
     },
     "metadata": {},
     "output_type": "display_data"
    }
   ],
   "source": [
    "ran_nums = np.random.random(1000)\n",
    "# PMF of random numbers\n",
    "ran_pmf = thinkstats2.Pmf(ran_nums, label='random_pmf')\n",
    "# CDF of random numbers\n",
    "ran_cdf = thinkstats2.Cdf(ran_nums, label='random_cdf')\n",
    "# plots CDF and PMF\n",
    "thinkplot.PrePlot(1)\n",
    "thinkplot.Cdfs([ran_cdf])\n",
    "thinkplot.Show(xlabel = 'random numbers', ylabel = 'CDF')\n",
    "thinkplot.PrePlot(1)\n",
    "thinkplot.Pmfs([ran_pmf])\n",
    "thinkplot.Show(xlabel = 'random numbers', ylabel = 'PMF')\n",
    "# it is a uniform distribution"
   ]
  },
  {
   "cell_type": "code",
   "execution_count": null,
   "id": "3064b247",
   "metadata": {},
   "outputs": [],
   "source": []
  }
 ],
 "metadata": {
  "kernelspec": {
   "display_name": "Python 3 (ipykernel)",
   "language": "python",
   "name": "python3"
  },
  "language_info": {
   "codemirror_mode": {
    "name": "ipython",
    "version": 3
   },
   "file_extension": ".py",
   "mimetype": "text/x-python",
   "name": "python",
   "nbconvert_exporter": "python",
   "pygments_lexer": "ipython3",
   "version": "3.9.7"
  }
 },
 "nbformat": 4,
 "nbformat_minor": 5
}
