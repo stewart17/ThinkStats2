{
 "cells": [
  {
   "cell_type": "markdown",
   "id": "d9132611",
   "metadata": {},
   "source": [
    "# Assignment 4.2 - ( 3.1, 3.2, 4.1, 4.2)\n",
    "\n",
    "http://thinkstats2.com\n",
    "\n",
    "Copyright 2016 Allen B. Downey\n",
    "\n",
    "MIT License: https://opensource.org/licenses/MIT"
   ]
  },
  {
   "cell_type": "markdown",
   "id": "3bda81f9",
   "metadata": {},
   "source": [
    "## Exercise 3-1"
   ]
  },
  {
   "cell_type": "code",
   "execution_count": 1,
   "id": "fa4c84f2",
   "metadata": {},
   "outputs": [],
   "source": [
    "import nsfg\n",
    "import first\n",
    "import thinkstats2\n",
    "import thinkplot\n",
    "import numpy as np\n",
    "import random"
   ]
  },
  {
   "cell_type": "code",
   "execution_count": 2,
   "id": "a62b2dfd",
   "metadata": {},
   "outputs": [],
   "source": [
    "def bias_pmf(pmf, label):\n",
    "    \"\"\"calculates bias_pmf given actual_pmf\"\"\"\n",
    "    new_pmf = pmf.Copy(label=label)\n",
    "    for x, p in pmf.Items():\n",
    "        new_pmf.Mult(x, x)\n",
    "    new_pmf.Normalize()\n",
    "    return new_pmf"
   ]
  },
  {
   "cell_type": "code",
   "execution_count": 12,
   "id": "8c1cedca",
   "metadata": {},
   "outputs": [],
   "source": [
    "def main():\n",
    "    resp = nsfg.ReadFemResp()\n",
    "    # calculates actual distribution of number of children under 18\n",
    "    actual_pmf = thinkstats2.Pmf(resp.numkdhh, label='actual')\n",
    "    # calculates biased distribution of number of children under 18\n",
    "    biased_pmf = bias_pmf(actual_pmf, 'observed')\n",
    "    # plots pmf's\n",
    "    thinkplot.PrePlot(2)\n",
    "    thinkplot.Pmfs([actual_pmf, biased_pmf])\n",
    "    thinkplot.Show(xlabel = '# of Children Under 18', ylabel = 'PMF')\n",
    "    # compares means between the two\n",
    "    print(\"Actual mean \", actual_pmf.Mean())\n",
    "    print(\"Observed mean \", biased_pmf.Mean())"
   ]
  },
  {
   "cell_type": "code",
   "execution_count": 13,
   "id": "e3bf8433",
   "metadata": {},
   "outputs": [
    {
     "data": {
      "image/png": "[encoded data removed]",
      "text/plain": [
       "<Figure size 432x288 with 1 Axes>"
      ]
     },
     "metadata": {
      "needs_background": "light"
     },
     "output_type": "display_data"
    },
    {
     "name": "stdout",
     "output_type": "stream",
     "text": [
      "Actual mean  1.024205155043831\n",
      "Observed mean  2.403679100664282\n"
     ]
    },
    {
     "data": {
      "text/plain": [
       "<Figure size 576x432 with 0 Axes>"
      ]
     },
     "metadata": {},
     "output_type": "display_data"
    }
   ],
   "source": [
    "if __name__ == '__main__':\n",
    "    main()"
   ]
  },
  {
   "cell_type": "markdown",
   "id": "42661b57",
   "metadata": {},
   "source": [
    "## Exercise 3-2"
   ]
  },
  {
   "cell_type": "code",
   "execution_count": 5,
   "id": "eeba3fa8",
   "metadata": {},
   "outputs": [],
   "source": [
    "def pmf_mean(pmf):\n",
    "    \"\"\"calculates mean of pmf\"\"\"\n",
    "    mean = 0.0\n",
    "    for x, p in pmf.Items():\n",
    "        mean += x * p\n",
    "    return mean"
   ]
  },
  {
   "cell_type": "code",
   "execution_count": 6,
   "id": "ce7e55d3",
   "metadata": {},
   "outputs": [],
   "source": [
    "def pmf_var(pmf):\n",
    "    \"\"\"calculates var of pmf\"\"\"\n",
    "    var = 0.0\n",
    "    mean = pmf_mean(pmf)\n",
    "    for x, p in pmf.Items():\n",
    "        var += p * ((x - mean) ** 2)\n",
    "    return var"
   ]
  },
  {
   "cell_type": "code",
   "execution_count": 16,
   "id": "149bbad6",
   "metadata": {},
   "outputs": [],
   "source": [
    "def main():\n",
    "    d = { 7: 8, 12: 8, 17: 14, 22: 4,\n",
    "         27: 6, 32: 12, 37: 8, 42: 3, 47: 2 }\n",
    "    # creates pmf\n",
    "    pmf = thinkstats2.Pmf(d, label='actual')\n",
    "    # computes mean, both new function and provided function and compares\n",
    "    print(f\"Provided mean function: {pmf.Mean()}\")\n",
    "    print(f\"New mean function: {pmf_mean(pmf)}\")\n",
    "    print(f\"Provided variance function: {pmf.Var()}\")\n",
    "    print(f\"New variance function: {pmf_var(pmf)}\")"
   ]
  },
  {
   "cell_type": "code",
   "execution_count": 17,
   "id": "25da646a",
   "metadata": {},
   "outputs": [
    {
     "name": "stdout",
     "output_type": "stream",
     "text": [
      "Provided mean function: 23.692307692307693\n",
      "New mean function: 23.692307692307693\n",
      "Provided variance function: 128.67455621301775\n",
      "New variance function: 128.67455621301775\n"
     ]
    }
   ],
   "source": [
    "if __name__ == '__main__':\n",
    "    main()"
   ]
  },
  {
   "cell_type": "markdown",
   "id": "3b5a9ead",
   "metadata": {},
   "source": [
    "## Exercise 4-1"
   ]
  },
  {
   "cell_type": "code",
   "execution_count": 9,
   "id": "f1a33a97",
   "metadata": {},
   "outputs": [
    {
     "name": "stdout",
     "output_type": "stream",
     "text": [
      "73.32374419119274\n",
      "71.12299465240642\n"
     ]
    }
   ],
   "source": [
    "live, firsts, others = first.MakeFrames()\n",
    "cdf_live = thinkstats2.Cdf(live.totalwgt_lb, label = 'totalwgt_lb')\n",
    "cdf_others = thinkstats2.Cdf(others.totalwgt_lb, label = 'totalwgt_lb')\n",
    "# calculates percentile weight of live births\n",
    "stewart_percentile = cdf_live.PercentileRank(8)\n",
    "#calculates percentile weight of other births\n",
    "stewart_percentile_others = cdf_others.PercentileRank(8)\n",
    "print(stewart_percentile)\n",
    "print(stewart_percentile_others)"
   ]
  },
  {
   "cell_type": "markdown",
   "id": "98c2cb89",
   "metadata": {},
   "source": [
    "## Exercise 4-2"
   ]
  },
  {
   "cell_type": "code",
   "execution_count": 22,
   "id": "2c249a28",
   "metadata": {},
   "outputs": [
    {
     "data": {
      "image/png": "[encoded data removed]",
      "text/plain": [
       "<Figure size 432x288 with 1 Axes>"
      ]
     },
     "metadata": {
      "needs_background": "light"
     },
     "output_type": "display_data"
    },
    {
     "ename": "AttributeError",
     "evalue": "'list' object has no attribute 'Render'",
     "output_type": "error",
     "traceback": [
      "\u001b[1;31m---------------------------------------------------------------------------\u001b[0m",
      "\u001b[1;31mAttributeError\u001b[0m                            Traceback (most recent call last)",
      "\u001b[1;32m~\\AppData\\Local\\Temp/ipykernel_8172/1780789868.py\u001b[0m in \u001b[0;36m<module>\u001b[1;34m\u001b[0m\n\u001b[0;32m      9\u001b[0m \u001b[0mthinkplot\u001b[0m\u001b[1;33m.\u001b[0m\u001b[0mShow\u001b[0m\u001b[1;33m(\u001b[0m\u001b[0mxlabel\u001b[0m \u001b[1;33m=\u001b[0m \u001b[1;34m'random numbers'\u001b[0m\u001b[1;33m,\u001b[0m \u001b[0mylabel\u001b[0m \u001b[1;33m=\u001b[0m \u001b[1;34m'CDF'\u001b[0m\u001b[1;33m)\u001b[0m\u001b[1;33m\u001b[0m\u001b[1;33m\u001b[0m\u001b[0m\n\u001b[0;32m     10\u001b[0m \u001b[0mthinkplot\u001b[0m\u001b[1;33m.\u001b[0m\u001b[0mPrePlot\u001b[0m\u001b[1;33m(\u001b[0m\u001b[1;36m1\u001b[0m\u001b[1;33m)\u001b[0m\u001b[1;33m\u001b[0m\u001b[1;33m\u001b[0m\u001b[0m\n\u001b[1;32m---> 11\u001b[1;33m \u001b[0mthinkplot\u001b[0m\u001b[1;33m.\u001b[0m\u001b[0mPmf\u001b[0m\u001b[1;33m(\u001b[0m\u001b[1;33m[\u001b[0m\u001b[0mran_pmf\u001b[0m\u001b[1;33m]\u001b[0m\u001b[1;33m)\u001b[0m\u001b[1;33m\u001b[0m\u001b[1;33m\u001b[0m\u001b[0m\n\u001b[0m\u001b[0;32m     12\u001b[0m \u001b[0mthinkplot\u001b[0m\u001b[1;33m.\u001b[0m\u001b[0mShow\u001b[0m\u001b[1;33m(\u001b[0m\u001b[0mxlabel\u001b[0m \u001b[1;33m=\u001b[0m \u001b[1;34m'random numbers'\u001b[0m\u001b[1;33m,\u001b[0m \u001b[0mylabel\u001b[0m \u001b[1;33m=\u001b[0m \u001b[1;34m'PMF'\u001b[0m\u001b[1;33m)\u001b[0m\u001b[1;33m\u001b[0m\u001b[1;33m\u001b[0m\u001b[0m\n\u001b[0;32m     13\u001b[0m \u001b[1;31m# it is a uniform distribution\u001b[0m\u001b[1;33m\u001b[0m\u001b[1;33m\u001b[0m\u001b[0m\n",
      "\u001b[1;32m~\\Documents\\GitHub\\ThinkStats2\\code\\thinkplot.py\u001b[0m in \u001b[0;36mPmf\u001b[1;34m(pmf, **options)\u001b[0m\n\u001b[0;32m    455\u001b[0m       \u001b[0moptions\u001b[0m\u001b[1;33m:\u001b[0m \u001b[0mkeyword\u001b[0m \u001b[0margs\u001b[0m \u001b[0mpassed\u001b[0m \u001b[0mto\u001b[0m \u001b[0mplt\u001b[0m\u001b[1;33m.\u001b[0m\u001b[0mplot\u001b[0m\u001b[1;33m\u001b[0m\u001b[1;33m\u001b[0m\u001b[0m\n\u001b[0;32m    456\u001b[0m     \"\"\"\n\u001b[1;32m--> 457\u001b[1;33m     \u001b[0mxs\u001b[0m\u001b[1;33m,\u001b[0m \u001b[0mys\u001b[0m \u001b[1;33m=\u001b[0m \u001b[0mpmf\u001b[0m\u001b[1;33m.\u001b[0m\u001b[0mRender\u001b[0m\u001b[1;33m(\u001b[0m\u001b[1;33m)\u001b[0m\u001b[1;33m\u001b[0m\u001b[1;33m\u001b[0m\u001b[0m\n\u001b[0m\u001b[0;32m    458\u001b[0m     \u001b[0mlow\u001b[0m\u001b[1;33m,\u001b[0m \u001b[0mhigh\u001b[0m \u001b[1;33m=\u001b[0m \u001b[0mmin\u001b[0m\u001b[1;33m(\u001b[0m\u001b[0mxs\u001b[0m\u001b[1;33m)\u001b[0m\u001b[1;33m,\u001b[0m \u001b[0mmax\u001b[0m\u001b[1;33m(\u001b[0m\u001b[0mxs\u001b[0m\u001b[1;33m)\u001b[0m\u001b[1;33m\u001b[0m\u001b[1;33m\u001b[0m\u001b[0m\n\u001b[0;32m    459\u001b[0m \u001b[1;33m\u001b[0m\u001b[0m\n",
      "\u001b[1;31mAttributeError\u001b[0m: 'list' object has no attribute 'Render'"
     ]
    },
    {
     "data": {
      "text/plain": [
       "<Figure size 576x432 with 0 Axes>"
      ]
     },
     "metadata": {},
     "output_type": "display_data"
    }
   ],
   "source": [
    "ran_nums = np.random.random(1000)\n",
    "# PMF of random numbers\n",
    "ran_pmf = thinkstats2.Pmf(ran_nums, label='random_pmf')\n",
    "# CDF of random numbers\n",
    "ran_cdf = thinkstats2.Cdf(ran_nums, label='random_cdf')\n",
    "# plots CDF and PMF\n",
    "thinkplot.PrePlot(1)\n",
    "thinkplot.Cdfs([ran_cdf])\n",
    "thinkplot.Show(xlabel = 'random numbers', ylabel = 'CDF')\n",
    "thinkplot.PrePlot(1)\n",
    "thinkplot.Pmf([ran_pmf])\n",
    "thinkplot.Show(xlabel = 'random numbers', ylabel = 'PMF')\n",
    "# it is a uniform distribution"
   ]
  },
  {
   "cell_type": "code",
   "execution_count": null,
   "id": "e69a91f4",
   "metadata": {},
   "outputs": [],
   "source": []
  }
 ],
 "metadata": {
  "kernelspec": {
   "display_name": "Python 3 (ipykernel)",
   "language": "python",
   "name": "python3"
  },
  "language_info": {
   "codemirror_mode": {
    "name": "ipython",
    "version": 3
   },
   "file_extension": ".py",
   "mimetype": "text/x-python",
   "name": "python",
   "nbconvert_exporter": "python",
   "pygments_lexer": "ipython3",
   "version": "3.9.7"
  }
 },
 "nbformat": 4,
 "nbformat_minor": 5
}
