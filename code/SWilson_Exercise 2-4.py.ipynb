{
 "cells": [
  {
   "cell_type": "code",
   "execution_count": 8,
   "id": "99314bed",
   "metadata": {},
   "outputs": [],
   "source": [
    "import nsfg\n",
    "import math\n",
    "import numpy as np\n",
    "import matplotlib.pyplot as plt"
   ]
  },
  {
   "cell_type": "code",
   "execution_count": 4,
   "id": "1111f4dc",
   "metadata": {},
   "outputs": [],
   "source": [
    "def CohenEffectSize(group1, group2):\n",
    "    \"\"\"calculates Cohen's d given any 2 groups\"\"\"\n",
    "    diff = group1.mean() - group2.mean()\n",
    "    var1 = group1.var()\n",
    "    var2 = group2.var()\n",
    "    n1, n2 = len(group1), len(group2)\n",
    "    pooled_var = (n1 * var1 + n2 * var2) / (n1 + n2)\n",
    "    d = diff / math.sqrt(pooled_var)\n",
    "    return d"
   ]
  },
  {
   "cell_type": "code",
   "execution_count": 5,
   "id": "104ae799",
   "metadata": {},
   "outputs": [],
   "source": [
    "def compare_weight(live, first, others):\n",
    "    \"\"\"compares weight between all live births, first births, and all births other than first\n",
    "       using histograms, mean, variance, difference in mean, and cohen's d\"\"\"\n",
    "    # plots histogram of first births weight vs other births weight\n",
    "    first_hist = plt.hist([first.totalwgt_lb, others.totalwgt_lb], label=[\"First Baby Wgt\", \"Other Babies Wgt\"])\n",
    "    plt.legend(loc=\"upper right\")\n",
    "    plt.show()\n",
    "    # calculates mean of live, first, and others\n",
    "    mean_live = live.totalwgt_lb.mean()\n",
    "    mean_first = first.totalwgt_lb.mean()\n",
    "    mean_others = others.totalwgt_lb.mean()\n",
    "    print(f\"First Births Mean weight: {mean_first}\\n\"\n",
    "          f\"Other Births Mean Weight: {mean_others}\")\n",
    "    # calculates variance of first and others\n",
    "    var_first = first.totalwgt_lb.var()\n",
    "    var_others = others.totalwgt_lb.var()\n",
    "    print(f\"First Births Variance: {var_first}\\n\"\n",
    "          f\"Other Births Variance: {var_others}\")\n",
    "    # calculates difference in lbs between first and others\n",
    "    print(\"Difference in lbs\", mean_first - mean_others)\n",
    "    # calculates difference relative to the mean as a percentage\n",
    "    print(\"Difference relative to mean: \", (mean_first - mean_others) / mean_live * 100, \"%\")\n",
    "    # calculates Cohen's d\n",
    "    d = CohenEffectSize(first.totalwgt_lb, others.totalwgt_lb)\n",
    "    print(f\"Cohen's d: {d}\")"
   ]
  },
  {
   "cell_type": "code",
   "execution_count": 6,
   "id": "3bc94a26",
   "metadata": {},
   "outputs": [],
   "source": [
    "def main():\n",
    "    # creates data frame of all pregnancies\n",
    "    preg = nsfg.ReadFemPreg()\n",
    "    # creates data frame of all pregnancies resulting in live birth\n",
    "    live = preg[preg.outcome == 1]\n",
    "    # creates data frame of all first baby pregnancies\n",
    "    first = live[live.birthord == 1]\n",
    "    # creates data frame of all pregnancies other than first\n",
    "    others = live[live.birthord != 1]\n",
    "    # compares weight difference between first babies and others\n",
    "    compare_weight(live, first, others)"
   ]
  },
  {
   "cell_type": "code",
   "execution_count": 9,
   "id": "f2d383da",
   "metadata": {},
   "outputs": [
    {
     "data": {
      "image/png": "[encoded data removed]",
      "text/plain": [
       "<Figure size 432x288 with 1 Axes>"
      ]
     },
     "metadata": {
      "needs_background": "light"
     },
     "output_type": "display_data"
    },
    {
     "name": "stdout",
     "output_type": "stream",
     "text": [
      "First Births Mean weight: 7.201094430437772\n",
      "Other Births Mean Weight: 7.325855614973262\n",
      "First Births Variance: 2.0180273009157768\n",
      "Other Births Variance: 1.9437810258964572\n",
      "Difference in lbs -0.12476118453549034\n",
      "Difference relative to mean:  -1.7171423678372415 %\n",
      "Cohen's d: -0.088672927072602\n"
     ]
    }
   ],
   "source": [
    "if __name__ == \"__main__\":\n",
    "    main()"
   ]
  },
  {
   "cell_type": "markdown",
   "id": "249606a2",
   "metadata": {},
   "source": [
    "# Conclusion\n",
    "Most of the summary statistics point to other babies being heavier compared to first babies. However, there is still not a very large difference between the two (2oz difference in mean)"
   ]
  },
  {
   "cell_type": "code",
   "execution_count": null,
   "id": "b8c209a4",
   "metadata": {},
   "outputs": [],
   "source": []
  }
 ],
 "metadata": {
  "kernelspec": {
   "display_name": "Python 3 (ipykernel)",
   "language": "python",
   "name": "python3"
  },
  "language_info": {
   "codemirror_mode": {
    "name": "ipython",
    "version": 3
   },
   "file_extension": ".py",
   "mimetype": "text/x-python",
   "name": "python",
   "nbconvert_exporter": "python",
   "pygments_lexer": "ipython3",
   "version": "3.9.7"
  }
 },
 "nbformat": 4,
 "nbformat_minor": 5
}
