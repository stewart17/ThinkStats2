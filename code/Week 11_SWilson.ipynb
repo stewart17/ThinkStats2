{
 "cells": [
  {
   "cell_type": "markdown",
   "id": "3d7d71a0",
   "metadata": {},
   "source": [
    "# Week 11 Exercises (13-1)"
   ]
  },
  {
   "cell_type": "markdown",
   "id": "47e33d18",
   "metadata": {},
   "source": [
    "## Exercise 13-1\n",
    "In NSFG Cycles 6 and 7, the variable cmdivorcx contains the date of divorce for the\n",
    "respondent’s first marriage, if applicable, encoded in century-months.\n",
    "\n",
    "Compute the duration of marriages that have ended in divorce, and the duration, so far,\n",
    "of marriages that are ongoing. Estimate the hazard and survival function for the duration\n",
    "of marriage.\n",
    "\n",
    "Use resampling to take into account sampling weights, and plot data from several resamples\n",
    "to visualize sampling error.\n",
    "\n",
    "Consider dividing the respondents into groups by decade of birth, and possibly by age\n",
    "at first marriage."
   ]
  },
  {
   "cell_type": "code",
   "execution_count": 3,
   "id": "95345394",
   "metadata": {},
   "outputs": [],
   "source": [
    "import nsfg\n",
    "import thinkstats2\n",
    "import survival\n",
    "import numpy as np"
   ]
  },
  {
   "cell_type": "code",
   "execution_count": 6,
   "id": "34fb009d",
   "metadata": {},
   "outputs": [],
   "source": [
    "preg = nsfg.ReadFemPreg()\n",
    "resp = nsfg.ReadFemResp()\n",
    "# clean divorce and marriage variables\n",
    "resp.cmdivorcx.replace([9997, 9998, 9999], np.nan, inplace=True)\n",
    "resp.cmmarrhx.replace([9997, 9998, 9999], np.nan, inplace=True)\n",
    "\n",
    "# creates variables for those not divorced\n",
    "resp['notdivorced'] = resp.cmdivorcx.isnull().astype(int)\n",
    "# duration of marriages that ended in divorce\n",
    "resp['duration'] = (resp.cmdivorcx - resp.cmmarrhx) / 12.0\n",
    "#computes duration of those still married\n",
    "resp['duration_now'] = (resp.cmintvw - resp.cmmarrhx) / 12.0"
   ]
  },
  {
   "cell_type": "code",
   "execution_count": 20,
   "id": "a0d79e71",
   "metadata": {},
   "outputs": [],
   "source": [
    "def EstimateDivorce(resp):\n",
    "    \"\"\"calculates hazard and survival function \n",
    "    for divorces\n",
    "    \"\"\"\n",
    "    # variables for those divorced and those still married\n",
    "    complete = resp[resp.notdivorced== 0].duration.dropna()\n",
    "    ongoing = resp[resp.notdivorced == 1].duration_now.dropna()\n",
    "    \n",
    "    # hazard function for duration of marriage\n",
    "    hazard = survival.EstimateHazardFunction(complete, ongoing)\n",
    "    # survival function for duration of marriage\n",
    "    surv = hazard.MakeSurvival(hazard)"
   ]
  },
  {
   "cell_type": "code",
   "execution_count": 19,
   "id": "75bae567",
   "metadata": {},
   "outputs": [],
   "source": [
    "def ResampleDivorce(resp, iters = 101):\n",
    "    \"\"\"Resamples respondents and computes survival function \n",
    "    to account for sampling weights\"\"\"\n",
    "    for i in range(iters):\n",
    "        samples = thinkstats2.ResampleRowsWeighted(resp)\n",
    "        hf, sf = EstimateDivoce(samples)\n",
    "        sample = pd.concat(samples, ignore_index=True)\n",
    "    thinkplot.Config(xlabel = \"years\", ylabel = \"Fraction undivorced\", axis = [0, 28, 0, 1])"
   ]
  }
 ],
 "metadata": {
  "kernelspec": {
   "display_name": "Python 3 (ipykernel)",
   "language": "python",
   "name": "python3"
  },
  "language_info": {
   "codemirror_mode": {
    "name": "ipython",
    "version": 3
   },
   "file_extension": ".py",
   "mimetype": "text/x-python",
   "name": "python",
   "nbconvert_exporter": "python",
   "pygments_lexer": "ipython3",
   "version": "3.9.7"
  }
 },
 "nbformat": 4,
 "nbformat_minor": 5
}
