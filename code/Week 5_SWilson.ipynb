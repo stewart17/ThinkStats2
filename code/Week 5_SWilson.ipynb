{
 "cells": [
  {
   "cell_type": "markdown",
   "id": "065813f5",
   "metadata": {},
   "source": [
    "# Assignment 4.2 - ( 3.1, 3.2, 4.1, 4.2)\n",
    "\n",
    "http://thinkstats2.com\n",
    "\n",
    "Copyright 2016 Allen B. Downey\n",
    "\n",
    "MIT License: https://opensource.org/licenses/MIT"
   ]
  },
  {
   "cell_type": "markdown",
   "id": "77fa9bce",
   "metadata": {},
   "source": [
    "## Exercies 5-1\n",
    "In the BRFSS (see “The lognormal Distribution” on page 55), the distribution of heights\n",
    "is roughly normal with parameters μ = 178 cm and σ = 7.7 cm for men, and μ = 163\n",
    "cm and σ = 7.3 cm for women.\n",
    "\n",
    "In order to join Blue Man Group, you have to be male and between 5′10″ and 6′1″ tall.\n",
    "What percentage of the US male population is in this range? Hint: use\n",
    "scipy.stats.norm.cdf."
   ]
  },
  {
   "cell_type": "code",
   "execution_count": 63,
   "id": "f24923ed",
   "metadata": {},
   "outputs": [],
   "source": [
    "import thinkstats2 as ts\n",
    "import thinkplot as tp\n",
    "import numpy as np\n",
    "import brfss\n",
    "import scipy"
   ]
  },
  {
   "cell_type": "code",
   "execution_count": 84,
   "id": "2df73325",
   "metadata": {},
   "outputs": [
    {
     "name": "stdout",
     "output_type": "stream",
     "text": [
      "% of US male population in Blue Man Group height range: 34.20946829459531%\n"
     ]
    }
   ],
   "source": [
    "# creates data frame of heights\n",
    "df = brfss.ReadBrfss()\n",
    "# normal distribution of male heights\n",
    "stats = scipy.stats.norm(178, 7.7)\n",
    "# eval CDF of low BMG height\n",
    "low = stats.cdf(177.8)\n",
    "# eval CDF of high BMG height\n",
    "high = stats.cdf(185.4)\n",
    "# prints percentage of US male pop in BMG height range\n",
    "print(f\"% of US male population in Blue Man Group height range: {(high-low)*100}%\")"
   ]
  },
  {
   "cell_type": "markdown",
   "id": "dab68111",
   "metadata": {},
   "source": [
    "## Exercise 5-2\n",
    "To get a feel for the Pareto distribution, let’s see how different the world would be if the\n",
    "distribution of human height were Pareto. With the parameters xm = 1 m and α = 1.7,\n",
    "we get a distribution with a reasonable minimum, 1 m, and median, 1.5 m.\n",
    "\n",
    "Plot this distribution. What is the mean human height in Pareto world? What fraction\n",
    "of the population is shorter than the mean? If there are 7 billion people in Pareto world,\n",
    "how many do we expect to be taller than 1 km? How tall do we expect the tallest person\n",
    "to be?"
   ]
  },
  {
   "cell_type": "code",
   "execution_count": 65,
   "id": "e55e03f0",
   "metadata": {},
   "outputs": [],
   "source": [
    "alpha = 1.7\n",
    "xmin = 1\n",
    "dist = scipy.stats.pareto(b=alpha, scale=xmin)"
   ]
  },
  {
   "cell_type": "code",
   "execution_count": 66,
   "id": "1c36afc4",
   "metadata": {},
   "outputs": [
    {
     "data": {
      "image/png": "[encoded data removed]",
      "text/plain": [
       "<Figure size 432x288 with 1 Axes>"
      ]
     },
     "metadata": {
      "needs_background": "light"
     },
     "output_type": "display_data"
    }
   ],
   "source": [
    "xs, ps = ts.RenderParetoCdf(xmin, alpha, 0, 10, n=100)\n",
    "tp.Plot(xs, ps)"
   ]
  },
  {
   "cell_type": "code",
   "execution_count": 67,
   "id": "3ddf199e",
   "metadata": {},
   "outputs": [
    {
     "data": {
      "text/plain": [
       "2.428571428571429"
      ]
     },
     "execution_count": 67,
     "metadata": {},
     "output_type": "execute_result"
    }
   ],
   "source": [
    "# mean height\n",
    "dist.mean()"
   ]
  },
  {
   "cell_type": "code",
   "execution_count": 68,
   "id": "83a785be",
   "metadata": {},
   "outputs": [
    {
     "data": {
      "text/plain": [
       "0.778739697565288"
      ]
     },
     "execution_count": 68,
     "metadata": {},
     "output_type": "execute_result"
    }
   ],
   "source": [
    "# fraction of people shorter than mean\n",
    "dist.cdf(dist.mean())"
   ]
  },
  {
   "cell_type": "code",
   "execution_count": 69,
   "id": "b60ebc94",
   "metadata": {},
   "outputs": [
    {
     "data": {
      "text/plain": [
       "55602.976430479954"
      ]
     },
     "execution_count": 69,
     "metadata": {},
     "output_type": "execute_result"
    }
   ],
   "source": [
    "# number of people taller than 1km\n",
    "(1 - dist.cdf(1000)) * 7e9"
   ]
  },
  {
   "cell_type": "code",
   "execution_count": 70,
   "id": "4d574cab",
   "metadata": {},
   "outputs": [
    {
     "data": {
      "text/plain": [
       "618349.6106759505"
      ]
     },
     "execution_count": 70,
     "metadata": {},
     "output_type": "execute_result"
    }
   ],
   "source": [
    "# tallest person's height\n",
    "dist.ppf(1 - 1 / 7e9)"
   ]
  },
  {
   "cell_type": "markdown",
   "id": "67b47d05",
   "metadata": {},
   "source": [
    "## Exercise 6-1\n",
    "Compute the median, mean, skewness and Pearson’s skewness of the resulting sample.\n",
    "What fraction of households reports a taxable income below the mean? How do the\n",
    "results depend on the assumed upper bound?"
   ]
  },
  {
   "cell_type": "code",
   "execution_count": 71,
   "id": "4189a995",
   "metadata": {},
   "outputs": [],
   "source": [
    "import hinc2\n",
    "import math"
   ]
  },
  {
   "cell_type": "code",
   "execution_count": 81,
   "id": "000588e4",
   "metadata": {},
   "outputs": [],
   "source": [
    "def main():\n",
    "    # data frame of income distribution\n",
    "    cps_df = hinc2.hinc.ReadData()\n",
    "    # creates interpolated sample of actual data\n",
    "    cps_sample = InterpolateSample(cps_df, log_upper=6.0)\n",
    "    # actual sample income values (no log scale)\n",
    "    sample = np.power(10, cps_sample)\n",
    "    # finds mean\n",
    "    print(f\"Mean: {Mean(sample)}\")\n",
    "    print(f\"Median: {Median(sample)}\")\n",
    "    print(f\"Skewness: {Skewness(sample)}\")\n",
    "    print(f\"Pearson Skewness: {PearsonMedianSkewness(sample)}\")\n",
    "    sample_cdf = ts.Cdf(sample)\n",
    "    print(f\"Percentage of households with income below mean: {sample_cdf.Prob(Mean(sample)) * 100}%\")"
   ]
  },
  {
   "cell_type": "code",
   "execution_count": 82,
   "id": "fda77563",
   "metadata": {},
   "outputs": [
    {
     "name": "stdout",
     "output_type": "stream",
     "text": [
      "Mean: 74278.70753118733\n",
      "Median: 51226.45447894046\n",
      "Skewness: 4.949920244429583\n",
      "Pearson Skewness: 0.7361258019141782\n",
      "Percentage of households with income below mean: 66.0005879566872%\n"
     ]
    }
   ],
   "source": [
    "if __name__ == \"__main__\":\n",
    "    main()"
   ]
  },
  {
   "cell_type": "code",
   "execution_count": 74,
   "id": "f79b0322",
   "metadata": {},
   "outputs": [],
   "source": [
    "def InterpolateSample(df, log_upper=6.0):\n",
    "    \"\"\"Makes a sample of log10 household income.\n",
    "\n",
    "    Assumes that log10 income is uniform in each range.\n",
    "\n",
    "    df: DataFrame with columns income and freq\n",
    "    log_upper: log10 of the assumed upper bound for the highest range\n",
    "\n",
    "    returns: NumPy array of log10 household income\n",
    "    copied from ThinkStats2 repo\n",
    "    \"\"\"\n",
    "    # compute the log10 of the upper bound for each range\n",
    "    df['log_upper'] = np.log10(df.income)\n",
    "\n",
    "    # get the lower bounds by shifting the upper bound and filling in\n",
    "    # the first element\n",
    "    df['log_lower'] = df.log_upper.shift(1)\n",
    "    df.loc[0, 'log_lower'] = 3.0\n",
    "\n",
    "    # plug in a value for the unknown upper bound of the highest range\n",
    "    df.loc[41, 'log_upper'] = log_upper\n",
    "    \n",
    "    # use the freq column to generate the right number of values in\n",
    "    # each range\n",
    "    arrays = []\n",
    "    for _, row in df.iterrows():\n",
    "        vals = np.linspace(row.log_lower, row.log_upper, int(row.freq))\n",
    "        arrays.append(vals)\n",
    "\n",
    "    # collect the arrays into a single sample\n",
    "    log_sample = np.concatenate(arrays)\n",
    "    return log_sample\n"
   ]
  },
  {
   "cell_type": "code",
   "execution_count": 75,
   "id": "b5316439",
   "metadata": {},
   "outputs": [],
   "source": [
    "def RawMoment(xs, k):\n",
    "    return sum(x**k for x in xs) / len(xs)"
   ]
  },
  {
   "cell_type": "code",
   "execution_count": 76,
   "id": "95ce7d9a",
   "metadata": {},
   "outputs": [],
   "source": [
    "def Mean(xs):\n",
    "    return RawMoment(xs, 1)"
   ]
  },
  {
   "cell_type": "code",
   "execution_count": 77,
   "id": "6594a6a2",
   "metadata": {},
   "outputs": [],
   "source": [
    "def Median(xs):\n",
    "    cdf = ts.MakeCdfFromList(xs)\n",
    "    return cdf.Value(0.5)"
   ]
  },
  {
   "cell_type": "code",
   "execution_count": 78,
   "id": "c14cf2e3",
   "metadata": {},
   "outputs": [],
   "source": [
    "def StandardizedMoment(xs, k):\n",
    "    var = CentralMoment(xs, 2)\n",
    "    std = math.sqrt(var)\n",
    "    return CentralMoment(xs, k) / std**k"
   ]
  },
  {
   "cell_type": "code",
   "execution_count": 79,
   "id": "bee776b2",
   "metadata": {},
   "outputs": [],
   "source": [
    "def Skewness(xs):\n",
    "    return StandardizedMoment(xs, 3)"
   ]
  },
  {
   "cell_type": "code",
   "execution_count": 80,
   "id": "92d248c6",
   "metadata": {},
   "outputs": [],
   "source": [
    "def PearsonMedianSkewness(xs):\n",
    "    median = Median(xs)\n",
    "    mean = RawMoment(xs, 1)\n",
    "    var = CentralMoment(xs, 2)\n",
    "    std = math.sqrt(var)\n",
    "    gp = 3 * (mean - median) / std\n",
    "    return gp"
   ]
  },
  {
   "cell_type": "markdown",
   "id": "55955b75",
   "metadata": {},
   "source": [
    "The assumed upper bound has a large effect on the mean of the sample. Outliers that may lie beyond the given upper bound would shift the mean a fair amount. The skew would likewise be affected but Pearson's Median Skewness would not be as affected. "
   ]
  },
  {
   "cell_type": "code",
   "execution_count": null,
   "id": "aa0681d6",
   "metadata": {},
   "outputs": [],
   "source": []
  }
 ],
 "metadata": {
  "kernelspec": {
   "display_name": "Python 3 (ipykernel)",
   "language": "python",
   "name": "python3"
  },
  "language_info": {
   "codemirror_mode": {
    "name": "ipython",
    "version": 3
   },
   "file_extension": ".py",
   "mimetype": "text/x-python",
   "name": "python",
   "nbconvert_exporter": "python",
   "pygments_lexer": "ipython3",
   "version": "3.9.7"
  }
 },
 "nbformat": 4,
 "nbformat_minor": 5
}
